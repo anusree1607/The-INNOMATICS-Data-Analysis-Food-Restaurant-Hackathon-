{
 "cells": [
  {
   "cell_type": "code",
   "execution_count": 5,
   "id": "9cbeecd1-4edd-4f23-8b34-f6109b74bc6d",
   "metadata": {},
   "outputs": [],
   "source": [
    "import numpy as np\n",
    "import pandas as pd\n",
    "import matplotlib.pyplot as plt\n",
    "import seaborn as sns"
   ]
  },
  {
   "cell_type": "code",
   "execution_count": 6,
   "id": "10cc453d-1720-4334-b764-27fe626396cd",
   "metadata": {},
   "outputs": [
    {
     "name": "stderr",
     "output_type": "stream",
     "text": [
      "C:\\Users\\home\\AppData\\Local\\Temp\\ipykernel_11304\\815816264.py:1: DeprecationWarning: Importing display from IPython.core.display is deprecated since IPython 7.14, please import from IPython display\n",
      "  from IPython.core.display import display, HTML\n"
     ]
    }
   ],
   "source": [
    "from IPython.core.display import display, HTML\n",
    "import time"
   ]
  },
  {
   "cell_type": "code",
   "execution_count": 7,
   "id": "97cdc1de-4ad0-452c-8713-95e40689b60f",
   "metadata": {},
   "outputs": [],
   "source": [
    "df_1 = pd.read_csv(r\"C:\\Users\\home\\Downloads\\Pandas data sets\\zomato_data.csv\")\n",
    "df_2 = pd.read_csv(r\"C:\\Users\\home\\Downloads\\Pandas data sets\\Geographical Coordinates.csv\")"
   ]
  },
  {
   "cell_type": "markdown",
   "id": "95e318fc-78f2-4718-886b-483cec69595d",
   "metadata": {},
   "source": [
    "### 1. What is the shape of the given dataset?\r\n"
   ]
  },
  {
   "cell_type": "code",
   "execution_count": 8,
   "id": "f0a1dfb0-787b-40b4-a5dd-0c0e4688fbaf",
   "metadata": {},
   "outputs": [
    {
     "data": {
      "text/plain": [
       "(51717, 10)"
      ]
     },
     "execution_count": 8,
     "metadata": {},
     "output_type": "execute_result"
    }
   ],
   "source": [
    "# shape of dataset\n",
    "df_1.shape"
   ]
  },
  {
   "cell_type": "code",
   "execution_count": 9,
   "id": "8bc93d95-69fd-4f90-a4ff-549af1210f3f",
   "metadata": {},
   "outputs": [
    {
     "name": "stdout",
     "output_type": "stream",
     "text": [
      "<class 'pandas.core.frame.DataFrame'>\n",
      "RangeIndex: 51717 entries, 0 to 51716\n",
      "Data columns (total 10 columns):\n",
      " #   Column                     Non-Null Count  Dtype \n",
      "---  ------                     --------------  ----- \n",
      " 0   online_order               51717 non-null  object\n",
      " 1   book_table                 51717 non-null  object\n",
      " 2   rate                       43942 non-null  object\n",
      " 3   votes                      51717 non-null  int64 \n",
      " 4   rest_type                  51490 non-null  object\n",
      " 5   dish_liked                 23639 non-null  object\n",
      " 6   cuisines                   51672 non-null  object\n",
      " 7   approx_costfor_two_people  51371 non-null  object\n",
      " 8   listed_intype              51717 non-null  object\n",
      " 9   listed_incity              51717 non-null  object\n",
      "dtypes: int64(1), object(9)\n",
      "memory usage: 3.9+ MB\n"
     ]
    }
   ],
   "source": [
    "df_1.info()"
   ]
  },
  {
   "cell_type": "markdown",
   "id": "7db628b8-392a-40b7-b60d-d4b00ab886be",
   "metadata": {},
   "source": [
    "## Data Cleaning & Preprocessing"
   ]
  },
  {
   "cell_type": "markdown",
   "id": "880abba6-dab1-44fd-ba6e-b56470f93ee4",
   "metadata": {},
   "source": [
    "### Rate Column:"
   ]
  },
  {
   "cell_type": "code",
   "execution_count": 10,
   "id": "2b8ad5fc-52e8-4bfb-8ae0-763c0d9a3725",
   "metadata": {},
   "outputs": [],
   "source": [
    "# Replacing '-' with NaN\n",
    "df_1[\"rate\"] = df_1[\"rate\"].replace('-',np.nan)"
   ]
  },
  {
   "cell_type": "code",
   "execution_count": 11,
   "id": "e80c852e-3282-4546-996d-97afd3f314a8",
   "metadata": {},
   "outputs": [],
   "source": [
    "# Removing /5 and reatining only the numeric value\n",
    "df_1[\"rate\"] = df_1[\"rate\"].apply(lambda x:str(x).split(\"/\")[0])"
   ]
  },
  {
   "cell_type": "code",
   "execution_count": 12,
   "id": "7442c62e-b7d1-4745-b253-cb5f337eac72",
   "metadata": {},
   "outputs": [],
   "source": [
    "# Converting into float\n",
    "df_1[\"rate\"]=pd.to_numeric(df_1[\"rate\"],errors=\"coerce\")"
   ]
  },
  {
   "cell_type": "code",
   "execution_count": 13,
   "id": "4874d06f-58d4-4de5-becb-3890cf4a22e9",
   "metadata": {},
   "outputs": [
    {
     "data": {
      "text/plain": [
       "dtype('float64')"
      ]
     },
     "execution_count": 13,
     "metadata": {},
     "output_type": "execute_result"
    }
   ],
   "source": [
    "df_1[\"rate\"].dtype"
   ]
  },
  {
   "cell_type": "code",
   "execution_count": 14,
   "id": "1e2de5e0-5cc6-464c-80cc-17a26d7dd6bb",
   "metadata": {},
   "outputs": [
    {
     "data": {
      "text/plain": [
       "10052"
      ]
     },
     "execution_count": 14,
     "metadata": {},
     "output_type": "execute_result"
    }
   ],
   "source": [
    "# checking the number of null values\n",
    "df_1[\"rate\"].isna().sum()"
   ]
  },
  {
   "cell_type": "code",
   "execution_count": 15,
   "id": "d37d1f4f-7740-4607-b21e-98a25f458280",
   "metadata": {},
   "outputs": [],
   "source": [
    "# filling the missing values using the median rating\n",
    "df_1[\"rate\"] = df_1[\"rate\"].fillna(df_1[\"rate\"].median())"
   ]
  },
  {
   "cell_type": "code",
   "execution_count": 16,
   "id": "5e44ae08-de41-42a5-807b-44052b2b4c55",
   "metadata": {},
   "outputs": [
    {
     "data": {
      "text/plain": [
       "0"
      ]
     },
     "execution_count": 16,
     "metadata": {},
     "output_type": "execute_result"
    }
   ],
   "source": [
    "df_1[\"rate\"].isna().sum()"
   ]
  },
  {
   "cell_type": "markdown",
   "id": "a26b247a-e2c1-4954-890e-75690e5a838b",
   "metadata": {},
   "source": [
    "### Cost column"
   ]
  },
  {
   "cell_type": "code",
   "execution_count": 17,
   "id": "4880a57d-61e6-465e-9cc0-e2fae9ddbfee",
   "metadata": {},
   "outputs": [],
   "source": [
    "# Removing commas from numeric strings ('1,000' ---> '1000')\n",
    "df_1[\"approx_costfor_two_people\"] = df_1[\"approx_costfor_two_people\"].apply(lambda x:str(x).replace(\",\",\"\"))"
   ]
  },
  {
   "cell_type": "code",
   "execution_count": 18,
   "id": "241c2985-07d9-4fc8-8ebe-e18cac55e87c",
   "metadata": {},
   "outputs": [],
   "source": [
    "# converting to numeric\n",
    "df_1[\"approx_costfor_two_people\"]=pd.to_numeric(df_1[\"approx_costfor_two_people\"],errors=\"coerce\")"
   ]
  },
  {
   "cell_type": "code",
   "execution_count": 19,
   "id": "3ce60c0e-42e0-4487-a3d1-69f75b48e9d6",
   "metadata": {},
   "outputs": [
    {
     "data": {
      "text/plain": [
       "dtype('float64')"
      ]
     },
     "execution_count": 19,
     "metadata": {},
     "output_type": "execute_result"
    }
   ],
   "source": [
    "df_1[\"approx_costfor_two_people\"].dtype"
   ]
  },
  {
   "cell_type": "code",
   "execution_count": 20,
   "id": "4e3adddc-5b61-421f-90af-706a4e3aae07",
   "metadata": {},
   "outputs": [
    {
     "data": {
      "text/plain": [
       "346"
      ]
     },
     "execution_count": 20,
     "metadata": {},
     "output_type": "execute_result"
    }
   ],
   "source": [
    "# checking the number of null values\n",
    "df_1[\"approx_costfor_two_people\"].isna().sum()"
   ]
  },
  {
   "cell_type": "code",
   "execution_count": 21,
   "id": "d7bf6a29-af04-4302-85ef-1babcbaca713",
   "metadata": {},
   "outputs": [],
   "source": [
    "# filling the missing values with median cost\n",
    "df_1[\"approx_costfor_two_people\"] = df_1[\"approx_costfor_two_people\"].fillna(df_1[\"approx_costfor_two_people\"].median())"
   ]
  },
  {
   "cell_type": "code",
   "execution_count": 22,
   "id": "91471171-c8e4-4d25-b230-beb29f41df2e",
   "metadata": {},
   "outputs": [
    {
     "data": {
      "text/plain": [
       "0"
      ]
     },
     "execution_count": 22,
     "metadata": {},
     "output_type": "execute_result"
    }
   ],
   "source": [
    "df_1[\"approx_costfor_two_people\"].isna().sum()"
   ]
  },
  {
   "cell_type": "markdown",
   "id": "6ac928de-b288-455a-92d5-01b9fd4e9107",
   "metadata": {},
   "source": [
    "# Categorical Columns"
   ]
  },
  {
   "cell_type": "code",
   "execution_count": 23,
   "id": "615c6b65-fd4b-4e90-99ab-ce3f8da2951c",
   "metadata": {},
   "outputs": [],
   "source": [
    "# dish_liked → Replace NaN with \"Not Available\"\n",
    "df_1[\"dish_liked\"] = df_1[\"dish_liked\"].fillna(\"Not Available\")"
   ]
  },
  {
   "cell_type": "code",
   "execution_count": 24,
   "id": "8d31422a-cf0d-4449-ac17-25df7bd49342",
   "metadata": {},
   "outputs": [
    {
     "data": {
      "text/plain": [
       "0"
      ]
     },
     "execution_count": 24,
     "metadata": {},
     "output_type": "execute_result"
    }
   ],
   "source": [
    "df_1[\"dish_liked\"].isna().sum()"
   ]
  },
  {
   "cell_type": "code",
   "execution_count": 25,
   "id": "582faa8b-2683-467e-bd7b-3f148d1abad0",
   "metadata": {},
   "outputs": [],
   "source": [
    "# cuisines → Replace NaN with \"Other\"\n",
    "df_1[\"cuisines\"] = df_1[\"cuisines\"].fillna(\"Other\")"
   ]
  },
  {
   "cell_type": "code",
   "execution_count": 26,
   "id": "f6137f20-6413-4a5e-9004-5659f8b1ded5",
   "metadata": {},
   "outputs": [
    {
     "data": {
      "text/plain": [
       "0"
      ]
     },
     "execution_count": 26,
     "metadata": {},
     "output_type": "execute_result"
    }
   ],
   "source": [
    "df_1[\"cuisines\"].isna().sum()"
   ]
  },
  {
   "cell_type": "code",
   "execution_count": 27,
   "id": "4e6017f1-0a75-4da9-b2f6-dd8181cf25f6",
   "metadata": {},
   "outputs": [],
   "source": [
    "# rest_type → Replace NaN with \"Unknown\"\n",
    "df_1[\"rest_type\"] = df_1[\"rest_type\"].fillna(\"Unknown\")"
   ]
  },
  {
   "cell_type": "code",
   "execution_count": 28,
   "id": "c431867f-2c41-4033-bfbf-bf4d64b59ae6",
   "metadata": {},
   "outputs": [
    {
     "data": {
      "text/plain": [
       "0"
      ]
     },
     "execution_count": 28,
     "metadata": {},
     "output_type": "execute_result"
    }
   ],
   "source": [
    "df_1[\"rest_type\"].isna().sum()"
   ]
  },
  {
   "cell_type": "markdown",
   "id": "09022ccd-1d0e-4c77-9818-bd5ddebd6367",
   "metadata": {},
   "source": [
    "### Votes Column"
   ]
  },
  {
   "cell_type": "code",
   "execution_count": 29,
   "id": "ad5c0492-3678-41bb-9299-969c650ea497",
   "metadata": {},
   "outputs": [],
   "source": [
    "# filling the missing values with median\n",
    "df_1[\"votes\"] = df_1[\"votes\"].fillna(df_1[\"votes\"].median())"
   ]
  },
  {
   "cell_type": "code",
   "execution_count": 30,
   "id": "dc167fd3-3d48-402a-aa8e-81c9ff982860",
   "metadata": {},
   "outputs": [
    {
     "data": {
      "text/plain": [
       "0"
      ]
     },
     "execution_count": 30,
     "metadata": {},
     "output_type": "execute_result"
    }
   ],
   "source": [
    "df_1[\"votes\"].isna().sum()"
   ]
  },
  {
   "cell_type": "markdown",
   "id": "f91d9b9e-b186-49c8-b8c4-17a9e61739ee",
   "metadata": {},
   "source": [
    "### Binary Encoding\n",
    "\n",
    "Yes --> 1\\\n",
    "No --> 0"
   ]
  },
  {
   "cell_type": "code",
   "execution_count": 31,
   "id": "54f4a85d-6f25-4d11-974a-6e2afc7f3fad",
   "metadata": {},
   "outputs": [],
   "source": [
    "df_1[\"online_order\"] = df_1[\"online_order\"].map({\"Yes\":1,\"No\":0})"
   ]
  },
  {
   "cell_type": "code",
   "execution_count": 32,
   "id": "1998992f-1b84-42df-8ace-8f5bb49f458f",
   "metadata": {},
   "outputs": [
    {
     "data": {
      "text/plain": [
       "online_order\n",
       "1    30444\n",
       "0    21273\n",
       "Name: count, dtype: int64"
      ]
     },
     "execution_count": 32,
     "metadata": {},
     "output_type": "execute_result"
    }
   ],
   "source": [
    "df_1[\"online_order\"].value_counts()"
   ]
  },
  {
   "cell_type": "code",
   "execution_count": 33,
   "id": "86c2daf5-7440-4ed2-80c4-a2056d42f224",
   "metadata": {},
   "outputs": [],
   "source": [
    "df_1[\"book_table\"] = df_1[\"book_table\"].map({\"Yes\":1,\"No\":0})"
   ]
  },
  {
   "cell_type": "code",
   "execution_count": 34,
   "id": "ea7c6045-2a82-4221-8ba6-824c28737ea1",
   "metadata": {},
   "outputs": [
    {
     "data": {
      "text/plain": [
       "book_table\n",
       "0    45268\n",
       "1     6449\n",
       "Name: count, dtype: int64"
      ]
     },
     "execution_count": 34,
     "metadata": {},
     "output_type": "execute_result"
    }
   ],
   "source": [
    "df_1[\"book_table\"].value_counts()"
   ]
  },
  {
   "cell_type": "markdown",
   "id": "c96071c7-b345-4322-aaaa-811959a3c415",
   "metadata": {},
   "source": [
    "### Data Type Conversion:"
   ]
  },
  {
   "cell_type": "code",
   "execution_count": 365,
   "id": "1828239a-ee67-499e-8a9b-c92858652aec",
   "metadata": {},
   "outputs": [
    {
     "data": {
      "text/plain": [
       "dtype('float64')"
      ]
     },
     "execution_count": 365,
     "metadata": {},
     "output_type": "execute_result"
    }
   ],
   "source": [
    "# rate → float\n",
    "df_1[\"rate\"] = df_1[\"rate\"].astype(\"float\")\n",
    "df_1[\"rate\"].dtype"
   ]
  },
  {
   "cell_type": "code",
   "execution_count": 366,
   "id": "5c22463e-55cf-43fd-8b9e-f6d858bf9ab6",
   "metadata": {},
   "outputs": [
    {
     "data": {
      "text/plain": [
       "dtype('int32')"
      ]
     },
     "execution_count": 366,
     "metadata": {},
     "output_type": "execute_result"
    }
   ],
   "source": [
    "# votes → integer\n",
    "df_1[\"votes\"] = df_1[\"votes\"].astype(\"int\")\n",
    "df_1[\"votes\"].dtype"
   ]
  },
  {
   "cell_type": "code",
   "execution_count": 367,
   "id": "22939e44-fae3-4f67-8529-0c4af04657f4",
   "metadata": {},
   "outputs": [
    {
     "data": {
      "text/plain": [
       "dtype('int32')"
      ]
     },
     "execution_count": 367,
     "metadata": {},
     "output_type": "execute_result"
    }
   ],
   "source": [
    "# approx_costfor_two_people → integer\n",
    "df_1[\"approx_costfor_two_people\"] = df_1[\"approx_costfor_two_people\"].astype(\"int\")\n",
    "df_1[\"approx_costfor_two_people\"].dtype"
   ]
  },
  {
   "cell_type": "markdown",
   "id": "35976cd5-e73d-4258-a291-3c3423a17031",
   "metadata": {},
   "source": [
    "### 2. How many restaurants serve North Indian cuisine?\n"
   ]
  },
  {
   "cell_type": "code",
   "execution_count": 368,
   "id": "28a354af-5334-4e8b-9bc8-af1d4026b42b",
   "metadata": {},
   "outputs": [],
   "source": [
    "df_nic = df_1[df_1[\"cuisines\"].str.contains(\"North Indian\",case=False)]"
   ]
  },
  {
   "cell_type": "code",
   "execution_count": 369,
   "id": "b34de416-66ee-4dc5-985b-59eb82a7404f",
   "metadata": {},
   "outputs": [
    {
     "name": "stdout",
     "output_type": "stream",
     "text": [
      "Number of restaurants serving North Indian Cuisine =  21085\n"
     ]
    }
   ],
   "source": [
    "print(\"Number of restaurants serving North Indian Cuisine = \",df_nic.shape[0])"
   ]
  },
  {
   "cell_type": "markdown",
   "id": "3cabc648-2367-48e8-b496-abcbf4f4715b",
   "metadata": {},
   "source": [
    "### 3. What cuisine is most commonly offered by restaurants in Bangalore?"
   ]
  },
  {
   "cell_type": "code",
   "execution_count": 370,
   "id": "7e1939c4-94d8-4314-bca4-9a68c31803b7",
   "metadata": {},
   "outputs": [
    {
     "data": {
      "text/plain": [
       "[('North Indian', 21085)]"
      ]
     },
     "execution_count": 370,
     "metadata": {},
     "output_type": "execute_result"
    }
   ],
   "source": [
    "from collections import Counter\n",
    "all_cuisines = \", \".join(df_1[\"cuisines\"])\n",
    "cuisine_counts = Counter(cuisine.strip() for cuisine in all_cuisines.split(\",\"))\n",
    "cuisine_counts.most_common(1)"
   ]
  },
  {
   "cell_type": "markdown",
   "id": "aca3cdb0-9a1c-4602-934e-26acfe253aec",
   "metadata": {},
   "source": [
    "- North Indian cuisine is commonly offered by restaurants in Bangalore."
   ]
  },
  {
   "cell_type": "markdown",
   "id": "1a838374-f9b3-4d54-bd40-31e4f058f590",
   "metadata": {},
   "source": [
    "### 4. Which locality in Bangalore has the highest average cost for dining (for two people)?\n"
   ]
  },
  {
   "cell_type": "code",
   "execution_count": 371,
   "id": "11e6dcc9-46df-4ee9-bd41-fc07e4cd79a6",
   "metadata": {},
   "outputs": [],
   "source": [
    "avg_cost = df_1.groupby(\"listed_incity\").agg({\"approx_costfor_two_people\":\"mean\"}).reset_index()"
   ]
  },
  {
   "cell_type": "code",
   "execution_count": 372,
   "id": "c2086eba-3653-4c3b-985c-b6330742c776",
   "metadata": {},
   "outputs": [
    {
     "data": {
      "text/html": [
       "<div>\n",
       "<style scoped>\n",
       "    .dataframe tbody tr th:only-of-type {\n",
       "        vertical-align: middle;\n",
       "    }\n",
       "\n",
       "    .dataframe tbody tr th {\n",
       "        vertical-align: top;\n",
       "    }\n",
       "\n",
       "    .dataframe thead th {\n",
       "        text-align: right;\n",
       "    }\n",
       "</style>\n",
       "<table border=\"1\" class=\"dataframe\">\n",
       "  <thead>\n",
       "    <tr style=\"text-align: right;\">\n",
       "      <th></th>\n",
       "      <th>listed_incity</th>\n",
       "      <th>approx_costfor_two_people</th>\n",
       "    </tr>\n",
       "  </thead>\n",
       "  <tbody>\n",
       "    <tr>\n",
       "      <th>7</th>\n",
       "      <td>Church Street</td>\n",
       "      <td>770.361248</td>\n",
       "    </tr>\n",
       "  </tbody>\n",
       "</table>\n",
       "</div>"
      ],
      "text/plain": [
       "   listed_incity  approx_costfor_two_people\n",
       "7  Church Street                 770.361248"
      ]
     },
     "execution_count": 372,
     "metadata": {},
     "output_type": "execute_result"
    }
   ],
   "source": [
    "avg_cost=avg_cost.sort_values(by=\"approx_costfor_two_people\",ascending=False)\n",
    "avg_cost.head(1)"
   ]
  },
  {
   "cell_type": "markdown",
   "id": "1460bcce-9fc1-4de6-942f-bffe145bdef6",
   "metadata": {},
   "source": [
    "- Church Street has the highest average cost for dining (for two people)."
   ]
  },
  {
   "cell_type": "markdown",
   "id": "69985860-88ef-4d36-9095-113e7b7ae8bb",
   "metadata": {},
   "source": [
    "### 5. Which restaurant type has the top rating with over 1000 votes?"
   ]
  },
  {
   "cell_type": "code",
   "execution_count": 373,
   "id": "2ea67a5d-7723-4852-af11-b2d223727426",
   "metadata": {},
   "outputs": [],
   "source": [
    "top_rest = df_1[\"rest_type\"].loc[(df_1[\"rate\"]==df_1[\"rate\"].max())&(df_1[\"votes\"]==df_1[\"votes\"].max())]"
   ]
  },
  {
   "cell_type": "code",
   "execution_count": 376,
   "id": "8709f8db-3baa-40d1-a6ea-340c92825264",
   "metadata": {},
   "outputs": [
    {
     "data": {
      "text/plain": [
       "49170    Microbrewery\n",
       "Name: rest_type, dtype: object"
      ]
     },
     "execution_count": 376,
     "metadata": {},
     "output_type": "execute_result"
    }
   ],
   "source": [
    "top_rest.head(1)"
   ]
  },
  {
   "cell_type": "markdown",
   "id": "a744485c-471b-42fb-98ab-da1e12c40920",
   "metadata": {},
   "source": [
    "- Microbrewery has top rating with over 1000 votes."
   ]
  },
  {
   "cell_type": "markdown",
   "id": "efe3bc12-98f0-4cae-9d2c-5188231bd568",
   "metadata": {},
   "source": [
    "### 6. How much does it cost at minimum to eat out in Bangalore?"
   ]
  },
  {
   "cell_type": "code",
   "execution_count": 174,
   "id": "0c41673e-2c23-47a3-a609-b47cd49ebf09",
   "metadata": {},
   "outputs": [
    {
     "data": {
      "text/plain": [
       "40"
      ]
     },
     "execution_count": 174,
     "metadata": {},
     "output_type": "execute_result"
    }
   ],
   "source": [
    "df_1[\"approx_costfor_two_people\"].min()"
   ]
  },
  {
   "cell_type": "markdown",
   "id": "a06c33bb-b44f-4567-967a-a2929dbc9db7",
   "metadata": {},
   "source": [
    "### 7. What percentage of total online orders is received by restaurants in Banashankari?"
   ]
  },
  {
   "cell_type": "code",
   "execution_count": 306,
   "id": "a9be62b8-405a-49e3-8b64-edb3e187d8ca",
   "metadata": {},
   "outputs": [],
   "source": [
    "df_online = df_1[df_1[\"online_order\"]==1]\n",
    "df_Banashankari = df_online[df_online[\"listed_incity\"]==\"Banashankari\"]"
   ]
  },
  {
   "cell_type": "code",
   "execution_count": 307,
   "id": "8420f545-2f12-4dc3-85b3-2971c9b8204a",
   "metadata": {},
   "outputs": [
    {
     "data": {
      "text/plain": [
       "1.7934568387859677"
      ]
     },
     "execution_count": 307,
     "metadata": {},
     "output_type": "execute_result"
    }
   ],
   "source": [
    "percentage = (df_Banashankari.shape[0]/df_online.shape[0])*100\n",
    "percentage"
   ]
  },
  {
   "cell_type": "markdown",
   "id": "4a043e51-68bd-4d2d-8114-1378ebce2f26",
   "metadata": {},
   "source": [
    "### 8. Which locality has the most restaurants with over 500 votes and a rating below 3.0?\r\n"
   ]
  },
  {
   "cell_type": "code",
   "execution_count": 377,
   "id": "dbadb79c-3154-4aac-9a28-0cd792326a13",
   "metadata": {},
   "outputs": [
    {
     "data": {
      "text/html": [
       "<div>\n",
       "<style scoped>\n",
       "    .dataframe tbody tr th:only-of-type {\n",
       "        vertical-align: middle;\n",
       "    }\n",
       "\n",
       "    .dataframe tbody tr th {\n",
       "        vertical-align: top;\n",
       "    }\n",
       "\n",
       "    .dataframe thead th {\n",
       "        text-align: right;\n",
       "    }\n",
       "</style>\n",
       "<table border=\"1\" class=\"dataframe\">\n",
       "  <thead>\n",
       "    <tr style=\"text-align: right;\">\n",
       "      <th></th>\n",
       "      <th>listed_incity</th>\n",
       "      <th>count</th>\n",
       "    </tr>\n",
       "  </thead>\n",
       "  <tbody>\n",
       "    <tr>\n",
       "      <th>0</th>\n",
       "      <td>Brookefield</td>\n",
       "      <td>8</td>\n",
       "    </tr>\n",
       "  </tbody>\n",
       "</table>\n",
       "</div>"
      ],
      "text/plain": [
       "  listed_incity  count\n",
       "0   Brookefield      8"
      ]
     },
     "execution_count": 377,
     "metadata": {},
     "output_type": "execute_result"
    }
   ],
   "source": [
    "rating_less_3 = df_1[\"listed_incity\"].loc[(df_1[\"votes\"]>500)&(df_1[\"rate\"]<3.0)]\n",
    "rating_less_3 = rating_less_3.value_counts().reset_index()\n",
    "rating_less_3.head(1)"
   ]
  },
  {
   "cell_type": "markdown",
   "id": "0ddb6dad-b74a-4bcf-a547-af959803d4c7",
   "metadata": {},
   "source": [
    "- Brookefield has the most restaurants with over 500 votes and a rating below 3.0"
   ]
  },
  {
   "cell_type": "markdown",
   "id": "05ef3643-f8d4-4c7e-a7b5-8fa570e80b0f",
   "metadata": {},
   "source": [
    "### 9. Which locality in Bangalore should Zomato target for expansion based on restaurant type diversity?\r\n"
   ]
  },
  {
   "cell_type": "code",
   "execution_count": 378,
   "id": "33709bb4-e229-496c-ab0b-ca140fcb485e",
   "metadata": {},
   "outputs": [
    {
     "data": {
      "text/html": [
       "<div>\n",
       "<style scoped>\n",
       "    .dataframe tbody tr th:only-of-type {\n",
       "        vertical-align: middle;\n",
       "    }\n",
       "\n",
       "    .dataframe tbody tr th {\n",
       "        vertical-align: top;\n",
       "    }\n",
       "\n",
       "    .dataframe thead th {\n",
       "        text-align: right;\n",
       "    }\n",
       "</style>\n",
       "<table border=\"1\" class=\"dataframe\">\n",
       "  <thead>\n",
       "    <tr style=\"text-align: right;\">\n",
       "      <th></th>\n",
       "      <th></th>\n",
       "      <th>rest_type</th>\n",
       "    </tr>\n",
       "    <tr>\n",
       "      <th>listed_incity</th>\n",
       "      <th>rest_type</th>\n",
       "      <th></th>\n",
       "    </tr>\n",
       "  </thead>\n",
       "  <tbody>\n",
       "    <tr>\n",
       "      <th rowspan=\"5\" valign=\"top\">BTM</th>\n",
       "      <th>Bakery</th>\n",
       "      <td>68</td>\n",
       "    </tr>\n",
       "    <tr>\n",
       "      <th>Bakery, Beverage Shop</th>\n",
       "      <td>2</td>\n",
       "    </tr>\n",
       "    <tr>\n",
       "      <th>Bakery, Cafe</th>\n",
       "      <td>1</td>\n",
       "    </tr>\n",
       "    <tr>\n",
       "      <th>Bakery, Dessert Parlor</th>\n",
       "      <td>7</td>\n",
       "    </tr>\n",
       "    <tr>\n",
       "      <th>Bakery, Quick Bites</th>\n",
       "      <td>12</td>\n",
       "    </tr>\n",
       "    <tr>\n",
       "      <th>...</th>\n",
       "      <th>...</th>\n",
       "      <td>...</td>\n",
       "    </tr>\n",
       "    <tr>\n",
       "      <th rowspan=\"5\" valign=\"top\">Whitefield</th>\n",
       "      <th>Sweet Shop</th>\n",
       "      <td>15</td>\n",
       "    </tr>\n",
       "    <tr>\n",
       "      <th>Sweet Shop, Quick Bites</th>\n",
       "      <td>8</td>\n",
       "    </tr>\n",
       "    <tr>\n",
       "      <th>Takeaway</th>\n",
       "      <td>3</td>\n",
       "    </tr>\n",
       "    <tr>\n",
       "      <th>Takeaway, Delivery</th>\n",
       "      <td>101</td>\n",
       "    </tr>\n",
       "    <tr>\n",
       "      <th>Unknown</th>\n",
       "      <td>12</td>\n",
       "    </tr>\n",
       "  </tbody>\n",
       "</table>\n",
       "<p>1515 rows × 1 columns</p>\n",
       "</div>"
      ],
      "text/plain": [
       "                                       rest_type\n",
       "listed_incity rest_type                         \n",
       "BTM           Bakery                          68\n",
       "              Bakery, Beverage Shop            2\n",
       "              Bakery, Cafe                     1\n",
       "              Bakery, Dessert Parlor           7\n",
       "              Bakery, Quick Bites             12\n",
       "...                                          ...\n",
       "Whitefield    Sweet Shop                      15\n",
       "              Sweet Shop, Quick Bites          8\n",
       "              Takeaway                         3\n",
       "              Takeaway, Delivery             101\n",
       "              Unknown                         12\n",
       "\n",
       "[1515 rows x 1 columns]"
      ]
     },
     "execution_count": 378,
     "metadata": {},
     "output_type": "execute_result"
    }
   ],
   "source": [
    "df_1.groupby([\"listed_incity\",\"rest_type\"]).agg({\"rest_type\":\"count\"})"
   ]
  },
  {
   "cell_type": "markdown",
   "id": "3c065fc8-c741-430f-bb77-463593ae9d98",
   "metadata": {},
   "source": [
    "### 10. What's the average cost difference between buffet and delivery restaurants?"
   ]
  },
  {
   "cell_type": "code",
   "execution_count": 379,
   "id": "11a7e897-ad61-46ab-b32d-dfd829022686",
   "metadata": {},
   "outputs": [],
   "source": [
    "df_type = df_1.groupby(\"listed_intype\").agg({\"approx_costfor_two_people\":\"mean\"})"
   ]
  },
  {
   "cell_type": "code",
   "execution_count": 380,
   "id": "2eb35ec7-0915-4f9b-a2ca-cf2526e74f9a",
   "metadata": {},
   "outputs": [],
   "source": [
    "difference = df_type.loc[\"Buffet\"]-df_type.loc[\"Delivery\"]"
   ]
  },
  {
   "cell_type": "code",
   "execution_count": 381,
   "id": "2a47afd0-1027-4754-909f-5a676e8a7e88",
   "metadata": {},
   "outputs": [
    {
     "name": "stdout",
     "output_type": "stream",
     "text": [
      "The average cost difference between buffet and delivery restaurants = 831.2513659898209\n"
     ]
    }
   ],
   "source": [
    "print(f\"The average cost difference between buffet and delivery restaurants = {difference[\"approx_costfor_two_people\"]}\")"
   ]
  },
  {
   "cell_type": "markdown",
   "id": "690d814a-5252-4a1d-859f-7b882be7fcd4",
   "metadata": {},
   "source": [
    "### 11. What is the maximum number of votes received by any restaurant with online ordering?\r\n"
   ]
  },
  {
   "cell_type": "code",
   "execution_count": 382,
   "id": "6d36a12d-454a-42b0-9b4b-52eea84b8146",
   "metadata": {},
   "outputs": [
    {
     "data": {
      "text/plain": [
       "16832"
      ]
     },
     "execution_count": 382,
     "metadata": {},
     "output_type": "execute_result"
    }
   ],
   "source": [
    "df_online[\"votes\"].max()"
   ]
  },
  {
   "cell_type": "markdown",
   "id": "85a94740-1501-471c-984a-9250ecf2e076",
   "metadata": {},
   "source": [
    "### 12. What is the average rating of restaurants that serve both North Indian and Chinese cuisines?\r\n"
   ]
  },
  {
   "cell_type": "code",
   "execution_count": 383,
   "id": "9a616c1b-d240-43f3-ad1e-a1c8749e473d",
   "metadata": {},
   "outputs": [
    {
     "name": "stdout",
     "output_type": "stream",
     "text": [
      "Average rating of restaurants that serve both North Indian and Chinese cuisines = 3.59\n"
     ]
    }
   ],
   "source": [
    "df_nc = df_1[(df_1[\"cuisines\"].str.contains(\"North Indian\",case=False))&(df_1[\"cuisines\"].str.contains(\"Chinese\",case=False))]\n",
    "print(f\"Average rating of restaurants that serve both North Indian and Chinese cuisines = {np.round(df_nc[\"rate\"].mean(),2)}\")"
   ]
  },
  {
   "cell_type": "markdown",
   "id": "83565de4-b687-4353-8a60-49f20f2f9bf3",
   "metadata": {},
   "source": [
    "### 13. What is the most profitable area for Zomato based on potential revenue estimation?\r\n"
   ]
  },
  {
   "cell_type": "code",
   "execution_count": 384,
   "id": "d0066034-e84e-4e5d-9d1d-b4f48f4088d4",
   "metadata": {},
   "outputs": [
    {
     "data": {
      "text/html": [
       "<div>\n",
       "<style scoped>\n",
       "    .dataframe tbody tr th:only-of-type {\n",
       "        vertical-align: middle;\n",
       "    }\n",
       "\n",
       "    .dataframe tbody tr th {\n",
       "        vertical-align: top;\n",
       "    }\n",
       "\n",
       "    .dataframe thead th {\n",
       "        text-align: right;\n",
       "    }\n",
       "</style>\n",
       "<table border=\"1\" class=\"dataframe\">\n",
       "  <thead>\n",
       "    <tr style=\"text-align: right;\">\n",
       "      <th></th>\n",
       "      <th>approx_costfor_two_people</th>\n",
       "    </tr>\n",
       "    <tr>\n",
       "      <th>listed_incity</th>\n",
       "      <th></th>\n",
       "    </tr>\n",
       "  </thead>\n",
       "  <tbody>\n",
       "    <tr>\n",
       "      <th>BTM</th>\n",
       "      <td>1623359</td>\n",
       "    </tr>\n",
       "  </tbody>\n",
       "</table>\n",
       "</div>"
      ],
      "text/plain": [
       "               approx_costfor_two_people\n",
       "listed_incity                           \n",
       "BTM                              1623359"
      ]
     },
     "execution_count": 384,
     "metadata": {},
     "output_type": "execute_result"
    }
   ],
   "source": [
    "revenue = df_1.groupby(\"listed_incity\").agg({\"approx_costfor_two_people\":\"sum\"})\n",
    "revenue.loc[revenue[\"approx_costfor_two_people\"]==revenue[\"approx_costfor_two_people\"].max()]"
   ]
  },
  {
   "cell_type": "code",
   "execution_count": 385,
   "id": "50c51b1b-6acf-453a-a810-4d9af57f03e2",
   "metadata": {},
   "outputs": [
    {
     "data": {
      "text/html": [
       "<div>\n",
       "<style scoped>\n",
       "    .dataframe tbody tr th:only-of-type {\n",
       "        vertical-align: middle;\n",
       "    }\n",
       "\n",
       "    .dataframe tbody tr th {\n",
       "        vertical-align: top;\n",
       "    }\n",
       "\n",
       "    .dataframe thead th {\n",
       "        text-align: right;\n",
       "    }\n",
       "</style>\n",
       "<table border=\"1\" class=\"dataframe\">\n",
       "  <thead>\n",
       "    <tr style=\"text-align: right;\">\n",
       "      <th></th>\n",
       "      <th>approx_costfor_two_people</th>\n",
       "    </tr>\n",
       "    <tr>\n",
       "      <th>listed_incity</th>\n",
       "      <th></th>\n",
       "    </tr>\n",
       "  </thead>\n",
       "  <tbody>\n",
       "    <tr>\n",
       "      <th>Brookefield</th>\n",
       "      <td>791010</td>\n",
       "    </tr>\n",
       "    <tr>\n",
       "      <th>Koramangala 7th Block</th>\n",
       "      <td>1526330</td>\n",
       "    </tr>\n",
       "    <tr>\n",
       "      <th>Bellandur</th>\n",
       "      <td>675140</td>\n",
       "    </tr>\n",
       "  </tbody>\n",
       "</table>\n",
       "</div>"
      ],
      "text/plain": [
       "                       approx_costfor_two_people\n",
       "listed_incity                                   \n",
       "Brookefield                               791010\n",
       "Koramangala 7th Block                    1526330\n",
       "Bellandur                                 675140"
      ]
     },
     "execution_count": 385,
     "metadata": {},
     "output_type": "execute_result"
    }
   ],
   "source": [
    "revenue.loc[[\"Brookefield\",\"Koramangala 7th Block\",\"Bellandur\"]]"
   ]
  },
  {
   "cell_type": "markdown",
   "id": "12f6c27f-0f2d-42d0-bc43-67f1dab269d5",
   "metadata": {},
   "source": [
    "- BTM is not there in the options. After BTM Koramangala 7th Block has the highest revenue."
   ]
  },
  {
   "cell_type": "markdown",
   "id": "a04151d3-1988-4bfd-a064-f8796eb7795f",
   "metadata": {},
   "source": [
    "### 14. If Zomato wants to reduce customer complaints, which restaurant type should they focus on?\r\n"
   ]
  },
  {
   "cell_type": "code",
   "execution_count": 68,
   "id": "5b017c38-b6ed-4232-9f41-de670a9bc21c",
   "metadata": {},
   "outputs": [
    {
     "data": {
      "text/plain": [
       "<Axes: xlabel='rest_type', ylabel='rate'>"
      ]
     },
     "execution_count": 68,
     "metadata": {},
     "output_type": "execute_result"
    },
    {
     "data": {
      "image/png": "[encoded data removed]",
      "text/plain": [
       "<Figure size 800x800 with 1 Axes>"
      ]
     },
     "metadata": {},
     "output_type": "display_data"
    }
   ],
   "source": [
    "rest_types=[\"Bakery, Beverage Shop\",\"Sweet Shop, Quick Bites\",\"Quick Bites\",\"Fine Dining\"]\n",
    "df_filtered = df_1[df_1[\"rest_type\"].isin(rest_types)]\n",
    "\n",
    "plt.figure(figsize=(8,8))\n",
    "sns.boxplot(x=df_filtered[\"rest_type\"],y=df_filtered[\"rate\"])"
   ]
  },
  {
   "cell_type": "markdown",
   "id": "38163d48-8ddf-4936-b9aa-870da5be0326",
   "metadata": {},
   "source": [
    "- Among Bakery,Beverage Shop; \n",
    "Sweet Shop \r\n",
    "Quick Bit; Quick Bites; s\r\n",
    "Fine Din; wngWe can see very low ratings for Quick Bites, so zomato should focus on it."
   ]
  },
  {
   "cell_type": "markdown",
   "id": "ea3ab3f7-6de1-41d1-bcb9-e431b8eb000d",
   "metadata": {},
   "source": [
    "### 15. In which area should Zomato invest by considering high rating (rate > 4.2), high number of votes (> 500) and including online orders?\r\n"
   ]
  },
  {
   "cell_type": "code",
   "execution_count": 387,
   "id": "ebb1a8c6-1340-4c6e-8a10-e26f9e56c7b3",
   "metadata": {},
   "outputs": [],
   "source": [
    "sorted_df = df_1.loc[(df_1[\"rate\"]>4.2)&(df_1[\"votes\"]>500)&(df_1[\"online_order\"]==1)]"
   ]
  },
  {
   "cell_type": "code",
   "execution_count": 388,
   "id": "264c743c-a78a-429a-baba-f1ba1b13581e",
   "metadata": {},
   "outputs": [
    {
     "data": {
      "text/plain": [
       "listed_incity\n",
       "Koramangala 7th Block    97\n",
       "Name: count, dtype: int64"
      ]
     },
     "execution_count": 388,
     "metadata": {},
     "output_type": "execute_result"
    }
   ],
   "source": [
    "sorted_df=sorted_df[\"listed_incity\"].value_counts().sort_values(ascending=False)\n",
    "sorted_df.head(1)"
   ]
  },
  {
   "cell_type": "markdown",
   "id": "5b3187ef-00f8-4b32-9b9e-899db15e6349",
   "metadata": {},
   "source": [
    "- Zomato should invest in Koramangala 7th Block by considering high rating (rate > 4.2), high number of votes (> 500) and including online orders because it has more number of restaurants."
   ]
  },
  {
   "cell_type": "code",
   "execution_count": 389,
   "id": "f5bb6c03-300d-4ec4-a066-df6d56e05537",
   "metadata": {},
   "outputs": [
    {
     "name": "stdout",
     "output_type": "stream",
     "text": [
      "Collecting folium\n",
      "  Downloading folium-0.19.5-py2.py3-none-any.whl.metadata (4.1 kB)\n",
      "Collecting branca>=0.6.0 (from folium)\n",
      "  Downloading branca-0.8.1-py3-none-any.whl.metadata (1.5 kB)\n",
      "Requirement already satisfied: jinja2>=2.9 in e:\\anaconda\\lib\\site-packages (from folium) (3.1.4)\n",
      "Requirement already satisfied: numpy in e:\\anaconda\\lib\\site-packages (from folium) (1.26.4)\n",
      "Requirement already satisfied: requests in e:\\anaconda\\lib\\site-packages (from folium) (2.32.2)\n",
      "Requirement already satisfied: xyzservices in e:\\anaconda\\lib\\site-packages (from folium) (2022.9.0)\n",
      "Requirement already satisfied: MarkupSafe>=2.0 in e:\\anaconda\\lib\\site-packages (from jinja2>=2.9->folium) (2.1.3)\n",
      "Requirement already satisfied: charset-normalizer<4,>=2 in e:\\anaconda\\lib\\site-packages (from requests->folium) (2.0.4)\n",
      "Requirement already satisfied: idna<4,>=2.5 in e:\\anaconda\\lib\\site-packages (from requests->folium) (3.7)\n",
      "Requirement already satisfied: urllib3<3,>=1.21.1 in e:\\anaconda\\lib\\site-packages (from requests->folium) (2.2.2)\n",
      "Requirement already satisfied: certifi>=2017.4.17 in e:\\anaconda\\lib\\site-packages (from requests->folium) (2024.6.2)\n",
      "Downloading folium-0.19.5-py2.py3-none-any.whl (110 kB)\n",
      "   ---------------------------------------- 0.0/110.9 kB ? eta -:--:--\n",
      "   ---------------------------------------- 0.0/110.9 kB ? eta -:--:--\n",
      "   ---------------------------------------- 0.0/110.9 kB ? eta -:--:--\n",
      "   --- ------------------------------------ 10.2/110.9 kB ? eta -:--:--\n",
      "   ---------- ---------------------------- 30.7/110.9 kB 325.1 kB/s eta 0:00:01\n",
      "   ----------------------------------- -- 102.4/110.9 kB 737.3 kB/s eta 0:00:01\n",
      "   ----------------------------------- -- 102.4/110.9 kB 737.3 kB/s eta 0:00:01\n",
      "   ----------------------------------- -- 102.4/110.9 kB 737.3 kB/s eta 0:00:01\n",
      "   ----------------------------------- -- 102.4/110.9 kB 737.3 kB/s eta 0:00:01\n",
      "   -------------------------------------- 110.9/110.9 kB 338.9 kB/s eta 0:00:00\n",
      "Downloading branca-0.8.1-py3-none-any.whl (26 kB)\n",
      "Installing collected packages: branca, folium\n",
      "Successfully installed branca-0.8.1 folium-0.19.5\n"
     ]
    }
   ],
   "source": [
    "!pip install folium"
   ]
  },
  {
   "cell_type": "code",
   "execution_count": 390,
   "id": "efcf468c-0af0-4437-b882-463bab1470fe",
   "metadata": {},
   "outputs": [
    {
     "name": "stdout",
     "output_type": "stream",
     "text": [
      "Requirement already satisfied: IPython in e:\\anaconda\\lib\\site-packages (8.25.0)\n",
      "Requirement already satisfied: decorator in e:\\anaconda\\lib\\site-packages (from IPython) (5.1.1)\n",
      "Requirement already satisfied: jedi>=0.16 in e:\\anaconda\\lib\\site-packages (from IPython) (0.18.1)\n",
      "Requirement already satisfied: matplotlib-inline in e:\\anaconda\\lib\\site-packages (from IPython) (0.1.6)\n",
      "Requirement already satisfied: prompt-toolkit<3.1.0,>=3.0.41 in e:\\anaconda\\lib\\site-packages (from IPython) (3.0.43)\n",
      "Requirement already satisfied: pygments>=2.4.0 in e:\\anaconda\\lib\\site-packages (from IPython) (2.15.1)\n",
      "Requirement already satisfied: stack-data in e:\\anaconda\\lib\\site-packages (from IPython) (0.2.0)\n",
      "Requirement already satisfied: traitlets>=5.13.0 in e:\\anaconda\\lib\\site-packages (from IPython) (5.14.3)\n",
      "Requirement already satisfied: colorama in e:\\anaconda\\lib\\site-packages (from IPython) (0.4.6)\n",
      "Requirement already satisfied: parso<0.9.0,>=0.8.0 in e:\\anaconda\\lib\\site-packages (from jedi>=0.16->IPython) (0.8.3)\n",
      "Requirement already satisfied: wcwidth in e:\\anaconda\\lib\\site-packages (from prompt-toolkit<3.1.0,>=3.0.41->IPython) (0.2.5)\n",
      "Requirement already satisfied: executing in e:\\anaconda\\lib\\site-packages (from stack-data->IPython) (0.8.3)\n",
      "Requirement already satisfied: asttokens in e:\\anaconda\\lib\\site-packages (from stack-data->IPython) (2.0.5)\n",
      "Requirement already satisfied: pure-eval in e:\\anaconda\\lib\\site-packages (from stack-data->IPython) (0.2.2)\n",
      "Requirement already satisfied: six in e:\\anaconda\\lib\\site-packages (from asttokens->stack-data->IPython) (1.16.0)\n"
     ]
    }
   ],
   "source": [
    "!pip install IPython"
   ]
  },
  {
   "cell_type": "code",
   "execution_count": 2,
   "id": "806bada2-fe8b-4b45-8c96-75f74d90b760",
   "metadata": {},
   "outputs": [],
   "source": [
    "from folium.plugins import MarkerCluster\n",
    "import folium as folium\n",
    "from IPython.display import IFrame"
   ]
  },
  {
   "cell_type": "markdown",
   "id": "eb7b6f4f-45b8-4ac1-a0df-bc82ec376aae",
   "metadata": {},
   "source": [
    "### Interactive Restaurant Density Mapping"
   ]
  },
  {
   "cell_type": "code",
   "execution_count": 35,
   "id": "d1ef9234-3bb9-4110-a9cc-77509525d800",
   "metadata": {},
   "outputs": [],
   "source": [
    "merged_df = pd.merge(df_1,df_2,on=\"listed_incity\",how=\"left\")"
   ]
  },
  {
   "cell_type": "code",
   "execution_count": 36,
   "id": "546da463-449b-4642-9db4-9be40bb9c65e",
   "metadata": {},
   "outputs": [],
   "source": [
    "map1 = folium.Map(location=[12.9716,77.5946],zoom_start=12)\n",
    "marker_cluster = MarkerCluster().add_to(map1)\n",
    "\n",
    "for i,row in merged_df.iterrows():\n",
    "    if not pd.isna(row[\"Latitude\"]) and not pd.isna(row[\"Longitude\"]):\n",
    "        folium.Marker(\n",
    "            location=[row[\"Latitude\"],row[\"Longitude\"]],\n",
    "            popup=f\"{row[\"listed_incity\"]}<br>Rating: {row[\"rate\"]}<br>Cost: {row[\"approx_costfor_two_people\"]}\",\n",
    "        ).add_to(marker_cluster)\n",
    "\n",
    "map1.save(\"restaurant_density.html\")"
   ]
  },
  {
   "cell_type": "code",
   "execution_count": 38,
   "id": "ff5659f7-a84c-4892-91e7-e9cf9b16676f",
   "metadata": {},
   "outputs": [
    {
     "data": {
      "text/html": [
       "\n",
       "        <iframe\n",
       "            width=\"1000\"\n",
       "            height=\"800\"\n",
       "            src=\"restaurant_density.html\"\n",
       "            frameborder=\"0\"\n",
       "            allowfullscreen\n",
       "            \n",
       "        ></iframe>\n",
       "        "
      ],
      "text/plain": [
       "<IPython.lib.display.IFrame at 0x23505e8fad0>"
      ]
     },
     "execution_count": 38,
     "metadata": {},
     "output_type": "execute_result"
    }
   ],
   "source": [
    "IFrame(\"restaurant_density.html\",width=1000,height=800)"
   ]
  },
  {
   "cell_type": "markdown",
   "id": "58b70cf0-483f-4f53-b18a-b1b5bdee8364",
   "metadata": {},
   "source": [
    "### Cuisine Specific Map"
   ]
  },
  {
   "cell_type": "code",
   "execution_count": 60,
   "id": "2f67266b-8d5b-4612-9a43-f35916323d13",
   "metadata": {},
   "outputs": [
    {
     "name": "stderr",
     "output_type": "stream",
     "text": [
      "C:\\Users\\home\\AppData\\Local\\Temp\\ipykernel_11304\\1438803572.py:2: SettingWithCopyWarning: \n",
      "A value is trying to be set on a copy of a slice from a DataFrame.\n",
      "Try using .loc[row_indexer,col_indexer] = value instead\n",
      "\n",
      "See the caveats in the documentation: https://pandas.pydata.org/pandas-docs/stable/user_guide/indexing.html#returning-a-view-versus-a-copy\n",
      "  italian_df[\"Latitude\"]=italian_df[\"Latitude\"].fillna(italian_df[\"Latitude\"].mean())\n",
      "C:\\Users\\home\\AppData\\Local\\Temp\\ipykernel_11304\\1438803572.py:3: SettingWithCopyWarning: \n",
      "A value is trying to be set on a copy of a slice from a DataFrame.\n",
      "Try using .loc[row_indexer,col_indexer] = value instead\n",
      "\n",
      "See the caveats in the documentation: https://pandas.pydata.org/pandas-docs/stable/user_guide/indexing.html#returning-a-view-versus-a-copy\n",
      "  italian_df[\"Longitude\"]=italian_df[\"Longitude\"].fillna(italian_df[\"Longitude\"].mean())\n"
     ]
    }
   ],
   "source": [
    "italian_df = merged_df[merged_df[\"cuisines\"].str.contains(\"Italian\",case=False)]\n",
    "italian_df[\"Latitude\"]=italian_df[\"Latitude\"].fillna(italian_df[\"Latitude\"].mean())\n",
    "italian_df[\"Longitude\"]=italian_df[\"Longitude\"].fillna(italian_df[\"Longitude\"].mean())\n",
    "\n",
    "map2 = folium.Map(location=[12.9716,77.5946],zoom_start=12)\n",
    "for i,row in italian_df.iterrows():\n",
    "    folium.Marker(\n",
    "        location=[row[\"Latitude\"],row[\"Longitude\"]],\n",
    "        popup=f\"{row[\"listed_incity\"]}<br>Cuisine: {row[\"cuisines\"]}\",\n",
    "        icom=folium.Icon(color=\"purple\")\n",
    "    ).add_to(map2)\n",
    "\n",
    "map2.save(\"Italian_spots_map.html\")"
   ]
  },
  {
   "cell_type": "code",
   "execution_count": 61,
   "id": "11b9b725-bdcf-46dd-9862-af93f618f0be",
   "metadata": {},
   "outputs": [
    {
     "data": {
      "text/html": [
       "\n",
       "        <iframe\n",
       "            width=\"1000\"\n",
       "            height=\"800\"\n",
       "            src=\"Italian_spots_map.html\"\n",
       "            frameborder=\"0\"\n",
       "            allowfullscreen\n",
       "            \n",
       "        ></iframe>\n",
       "        "
      ],
      "text/plain": [
       "<IPython.lib.display.IFrame at 0x2352b2b7860>"
      ]
     },
     "execution_count": 61,
     "metadata": {},
     "output_type": "execute_result"
    }
   ],
   "source": [
    "IFrame(\"Italian_spots_map.html\",width=1000,height=800)"
   ]
  },
  {
   "cell_type": "code",
   "execution_count": null,
   "id": "d8851a58-6617-4ef3-84ff-8af90c07e98a",
   "metadata": {},
   "outputs": [],
   "source": []
  },
  {
   "cell_type": "code",
   "execution_count": null,
   "id": "48903b56-18b9-44ec-9d1c-e5f44ddc2e0f",
   "metadata": {},
   "outputs": [],
   "source": []
  }
 ],
 "metadata": {
  "kernelspec": {
   "display_name": "Python 3 (ipykernel)",
   "language": "python",
   "name": "python3"
  },
  "language_info": {
   "codemirror_mode": {
    "name": "ipython",
    "version": 3
   },
   "file_extension": ".py",
   "mimetype": "text/x-python",
   "name": "python",
   "nbconvert_exporter": "python",
   "pygments_lexer": "ipython3",
   "version": "3.12.4"
  }
 },
 "nbformat": 4,
 "nbformat_minor": 5
}
